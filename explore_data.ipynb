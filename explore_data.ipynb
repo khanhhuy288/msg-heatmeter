{
 "cells": [
  {
   "cell_type": "markdown",
   "id": "36495ff6-f67e-4b80-9ee7-5c56990778b7",
   "metadata": {},
   "source": [
    "Das angehängte CSV-File enthält Wärmezählerdaten (Arbeit, Leistung & Volumenstrom) sowie Temperatur-Sensordaten (insbes. die Außentemperatur) einer mit Fernwärme versorgten Heizungsanlage.\n",
    "\n",
    "Die Aufgabe besteht darin, Lastprofile (Leistung gegen Zeit) über den Zeitraum eines Tages zu erstellen.\n",
    "\n",
    "Es sollen die folgenden Fragen beantwortet werden:\n",
    "1. Gibt es einen Unterschied in Lastprofilen zwischen Werktagen, Samstagen und Sonn- und Feiertagen (Das Haus befindet sich in Bayern)?\n",
    "\n",
    "    In general, load is the highest in the morning at 6:00, and sharply decreases from 6:00 til noon around 13:00, 14:00. It slowly increases until 21:00, and drops sharply around 22:00. Load on Weekdays is significantly higher than Saturdays, Sundays and Holidays around 7:00 and 8:00. Between 9:00 and 17:00, load on Weekdays are higher than Saturdays and Sundays. On Holidays, the load are quite similar to Saturdays und Sundays, but having big spikes at 12:00, 16:00, 19:00 and 21:00. Saturdays and Sundays have nearly identical energy load profile with Sundays having slightly higher load. \n",
    "    \n",
    "2. Kann man aus den Daten die Heizperiode ermitteln?\n",
    "    \n",
    "    Heizperiode falls between start of October and end of April every year as the outside temperature decreases and the energy consumption increases, reaching their respective bottom and top on February.\n",
    "    \n",
    "3. Gibt es eine Nachtabsenkung während der Heizperiode?\n",
    "    \n",
    "    There is Nachtabsenkung as Vorlauf Temperarture 1, Rucklauf Temperature, Rucklauf 1 Temperature, Rucklauf 2 Temperature decreases by 3 - 5 degrees between 21:00 and 06:00 while the outside temperature during that time is at its lowest."
   ]
  },
  {
   "cell_type": "code",
   "execution_count": null,
   "id": "204879a8-fa4f-4d8f-af45-1baab7bf4cdc",
   "metadata": {
    "tags": []
   },
   "outputs": [],
   "source": [
    "import pandas as pd\n",
    "import matplotlib.pyplot as plt\n",
    "import plotly.express as px\n",
    "from scipy.interpolate import make_interp_spline, BSpline\n",
    "import numpy as np\n",
    "from pandas.tseries.holiday import Holiday, AbstractHolidayCalendar, nearest_workday\n",
    "import holidays\n",
    "from datetime import date\n",
    "import matplotlib.pyplot as plt\n",
    "import matplotlib.dates as mdates\n",
    "import plotly.graph_objs as go\n",
    "from plotly.subplots import make_subplots\n",
    "import scipy.signal as sig"
   ]
  },
  {
   "cell_type": "code",
   "execution_count": null,
   "id": "d0cd8806-8157-4f13-9d57-56b9f4f9f4f0",
   "metadata": {
    "tags": []
   },
   "outputs": [],
   "source": [
    "fields = [\"Leistung [kW]\", \"Zeit\", \"Arbeit [MWh]\"]\n",
    "\n",
    "df = pd.read_csv(\"Trend-2021-09-09_08-02_30.csv\", delimiter=\";\", usecols=fields)"
   ]
  },
  {
   "cell_type": "code",
   "execution_count": null,
   "id": "1d532009-a42d-4d91-be7f-8ee939c6a786",
   "metadata": {
    "tags": []
   },
   "outputs": [],
   "source": [
    "df.rename(columns={'Leistung [kW]': 'Leistung', \n",
    "                   \"Arbeit [MWh]\": \"Arbeit\" }, inplace=True)\n",
    "\n",
    "# Convert the \"Leistung\" column to float\n",
    "df['Leistung'] = df['Leistung'].str.replace(',', '.').astype(float)\n",
    "df['Arbeit'] = df['Arbeit'].str.replace(',', '.').astype(float)\n",
    "\n",
    "# Convert the \"Zeit\" column to datetime\n",
    "df['Zeit'] = pd.to_datetime(df['Zeit'], format='%d.%m.%Y %H:%M:%S')"
   ]
  },
  {
   "cell_type": "code",
   "execution_count": null,
   "id": "9da4c902-5a65-41ea-9132-d2bc29a59ada",
   "metadata": {
    "tags": []
   },
   "outputs": [],
   "source": [
    "# Set the index of the DataFrame to the \"Zeit\" column\n",
    "df.set_index('Zeit', inplace=True)\n",
    "\n",
    "# Filter Arbeit > 0\n",
    "df = df[df['Arbeit'] > 0]"
   ]
  },
  {
   "cell_type": "code",
   "execution_count": null,
   "id": "dd8210fd-b4e0-419a-a95c-6f545dffbf78",
   "metadata": {
    "tags": []
   },
   "outputs": [],
   "source": [
    "# hourly_energy = df.resample('H')['Arbeit'].max().diff().fillna(method='bfill')*1000"
   ]
  },
  {
   "cell_type": "code",
   "execution_count": null,
   "id": "37256c60-57dd-4027-994e-8edd2b4ecc9c",
   "metadata": {
    "tags": []
   },
   "outputs": [],
   "source": [
    "# Resample the DataFrame to hourly intervals and average the \"Leistung\" column for each hour\n",
    "# hourly_load = df.resample('H')['Leistung'].mean()"
   ]
  },
  {
   "cell_type": "code",
   "execution_count": null,
   "id": "3c233dbf-578c-411b-80ad-24569578a92c",
   "metadata": {
    "tags": []
   },
   "outputs": [],
   "source": [
    "bayern_holidays = holidays.country_holidays('DE', subdiv='BY', years=df.index.year.unique())\n",
    "holiday_mask = [date in bayern_holidays for date in df.index.date]"
   ]
  },
  {
   "cell_type": "code",
   "execution_count": null,
   "id": "cb8d5ac5-207c-4d08-a45d-47da2da4c339",
   "metadata": {
    "tags": []
   },
   "outputs": [],
   "source": [
    "df_weekday = df[df.index.weekday < 5]\n",
    "df_saturday = df[df.index.weekday == 5]\n",
    "df_sunday = df[df.index.weekday == 6]\n",
    "df_holiday = df[holiday_mask]"
   ]
  },
  {
   "cell_type": "code",
   "execution_count": null,
   "id": "d216c500-0fe7-41dc-9425-7c99d389651f",
   "metadata": {
    "tags": []
   },
   "outputs": [],
   "source": [
    "weekday_load = df_weekday['Leistung'].groupby(df_weekday.index.hour).mean()\n",
    "saturday_load = df_saturday['Leistung'].groupby(df_saturday.index.hour).mean()\n",
    "sunday_load = df_sunday['Leistung'].groupby(df_sunday.index.hour).mean()\n",
    "holiday_load = df_holiday['Leistung'].groupby(df_holiday.index.hour).mean()"
   ]
  },
  {
   "cell_type": "code",
   "execution_count": null,
   "id": "059bfea6-26bf-43c5-8a39-10c7afc5ea5a",
   "metadata": {
    "tags": []
   },
   "outputs": [],
   "source": [
    "# weekday_load = hourly_load[hourly_load.index.weekday < 5]\n",
    "# mean_weekday_load = weekday_load.groupby(weekday_load.index.hour).mean()\n",
    "# saturday_load = hourly_load[hourly_load.index.weekday == 5]\n",
    "# mean_saturday_load = saturday_load.groupby(saturday_load.index.hour).mean()\n",
    "# sunday_load = hourly_load[hourly_load.index.weekday == 6]\n",
    "# mean_sunday_load = sunday_load.groupby(sunday_load.index.hour).mean()\n",
    "# # holiday_load = hourly_load[holiday_mask]\n",
    "# mean_holiday_load = holiday_load.groupby(holiday_load.index.hour).mean()"
   ]
  },
  {
   "cell_type": "code",
   "execution_count": null,
   "id": "8f21c2d8-1d6b-4509-836b-6739b58300b2",
   "metadata": {
    "tags": []
   },
   "outputs": [],
   "source": [
    "# # Create the line graph\n",
    "# plt.plot(weekday_load, label='Weekdays')\n",
    "# plt.plot(saturday_load, label='Saturdays')\n",
    "# plt.plot(sunday_load, label='Sundays')\n",
    "# plt.plot(holiday_load, label='Holidays')\n",
    "\n",
    "# # Set the x-axis labels\n",
    "# # plt.xticks(range(0, 24))\n",
    "\n",
    "# # Add a title and labels for the x and y axes\n",
    "# plt.title('Load Profile')\n",
    "# plt.xlabel('Time (Hour)')\n",
    "# plt.ylabel('Load (kW)')\n",
    "\n",
    "# # Add a legend\n",
    "# plt.legend()\n",
    "# plt.grid(True)\n",
    "\n",
    "# # Display the graph\n",
    "# plt.show()"
   ]
  },
  {
   "cell_type": "code",
   "execution_count": null,
   "id": "00bcf3cc-307f-4428-965a-a318b0dae828",
   "metadata": {
    "tags": []
   },
   "outputs": [],
   "source": [
    "# Define the traces for each line\n",
    "trace_weekday = go.Scatter(x=list(range(0,24)), y=weekday_load, mode='lines', name='Weekdays')\n",
    "trace_saturday = go.Scatter(x=list(range(0,24)), y=saturday_load, mode='lines', name='Saturdays')\n",
    "trace_sunday = go.Scatter(x=list(range(0,24)), y=sunday_load, mode='lines', name='Sundays')\n",
    "trace_holiday = go.Scatter(x=list(range(0,24)), y=holiday_load, mode='lines', name='Holidays')\n",
    "\n",
    "# Define the data and layout\n",
    "data = [trace_weekday, trace_saturday, trace_sunday, trace_holiday]\n",
    "layout = go.Layout(title=dict(text='Load Profile', x=0.5), \n",
    "                   xaxis=dict(title='Time (Hour)', dtick=1), \n",
    "                   yaxis=dict(title='Load (kW)'), \n",
    "                   legend=dict(x=0.85, y=0.95, traceorder='normal'),\n",
    "                   height=600,\n",
    "                  hovermode='x')\n",
    "\n",
    "# Set hovertemplate for each trace\n",
    "hovertemplate = '%{y:.2f} kW'\n",
    "trace_weekday.update(hovertemplate=hovertemplate)\n",
    "trace_saturday.update(hovertemplate=hovertemplate)\n",
    "trace_sunday.update(hovertemplate=hovertemplate)\n",
    "trace_holiday.update(hovertemplate=hovertemplate)\n",
    "\n",
    "# Create the figure and plot it\n",
    "fig = go.Figure(data=data, layout=layout)\n",
    "fig.show()"
   ]
  },
  {
   "cell_type": "code",
   "execution_count": null,
   "id": "628c74da-fb04-4632-b377-d6f402138c15",
   "metadata": {
    "tags": []
   },
   "outputs": [],
   "source": [
    "# # Convert the data into a long format suitable for Plotly Express\n",
    "# df_plot = pd.concat([mean_weekday_load, mean_saturday_load, mean_sunday_load], axis=1)\n",
    "# df_plot.columns = ['Weekday', 'Saturday', 'Sunday']\n",
    "# df_plot = df_plot.reset_index().melt(id_vars='Zeit', var_name='Day Type', value_name='Energy Consumption (kW)')\n",
    "\n",
    "# # Create the line graph with Plotly Express\n",
    "# fig = px.line(df_plot, x='Zeit', y='Energy Consumption (kW)', color='Day Type')\n",
    "\n",
    "# # Add a title and labels for the x and y axes\n",
    "# fig.update_layout(title='Hourly Load Profile by Day Type', xaxis_title='Time', yaxis_title='Energy Consumption (kW)')\n",
    "\n",
    "# # Display the graph\n",
    "# fig.show()"
   ]
  },
  {
   "cell_type": "code",
   "execution_count": null,
   "id": "16e2b3a7-6ed5-466c-8017-c162293da3aa",
   "metadata": {
    "tags": []
   },
   "outputs": [],
   "source": [
    "# # Create a smoother line\n",
    "# xnew = np.linspace(0, 23, 200)  # 300 represents number of points to make between T.min and T.max\n",
    "# spl = make_interp_spline(mean_weekday_load.index, mean_weekday_load, k=3)  # type: BSpline\n",
    "# power_smooth = spl(xnew)\n",
    "# plt.plot(xnew, power_smooth)\n",
    "\n",
    "# spl = make_interp_spline(mean_saturday_load.index, mean_saturday_load, k=3)  # type: BSpline\n",
    "# power_smooth = spl(xnew)\n",
    "# plt.plot(xnew, power_smooth)\n",
    "\n",
    "# spl = make_interp_spline(mean_sunday_load.index, mean_sunday_load, k=3)  # type: BSpline\n",
    "# power_smooth = spl(xnew)\n",
    "# plt.plot(xnew, power_smooth)\n",
    "\n",
    "# spl = make_interp_spline(mean_sunday_load.index, mean_holiday_load, k=3)  # type: BSpline\n",
    "# power_smooth = spl(xnew)\n",
    "# plt.plot(xnew, power_smooth)\n",
    "\n",
    "# # Set the x-axis labels\n",
    "# plt.xticks(range(0, 24))\n",
    "\n",
    "# # Add labels to the axes\n",
    "# plt.xlabel('Hour')\n",
    "# plt.ylabel('Load (kW)')\n",
    "# plt.title('Load Profile')\n",
    "\n",
    "# plt.grid(True)\n",
    "\n",
    "# # Add a legend\n",
    "# plt.legend(['Weekday', 'Saturday', 'Sunday', 'Holiday'])"
   ]
  },
  {
   "cell_type": "code",
   "execution_count": null,
   "id": "2b523e85-3a5c-4460-aad4-d054fb1a69e3",
   "metadata": {},
   "outputs": [],
   "source": [
    "fields = [\"Arbeit [MWh]\", \"Außentemperatur [°C]\", \"Zeit\"]\n",
    "\n",
    "df = pd.read_csv(\"Trend-2021-09-09_08-02_30.csv\", delimiter=\";\", usecols=fields)"
   ]
  },
  {
   "cell_type": "code",
   "execution_count": null,
   "id": "e92b8bba-af2a-4d7f-9663-e8468376c180",
   "metadata": {
    "tags": []
   },
   "outputs": [],
   "source": [
    "df.rename(columns={'Arbeit [MWh]': 'Arbeit', 'Außentemperatur [°C]': 'Außentemperatur'}, inplace=True)\n",
    "\n",
    "# Convert the \"Arbeit\" column to float\n",
    "df['Arbeit'] = df['Arbeit'].str.replace(',', '.').astype(float)\n",
    "# Filter Arbeit > 0\n",
    "df = df[df['Arbeit'] > 0]\n",
    "\n",
    "\n",
    "# Convert the \"Außentemperatur\" column to float\n",
    "df['Außentemperatur'] = df['Außentemperatur'].str.replace(',', '.').astype(float)\n",
    "\n",
    "# Convert the \"Zeit\" column to datetime\n",
    "df['Zeit'] = pd.to_datetime(df['Zeit'], format='%d.%m.%Y %H:%M:%S')\n",
    "\n",
    "# Set the index of the DataFrame to the \"Zeit\" column\n",
    "df.set_index('Zeit', inplace=True)"
   ]
  },
  {
   "cell_type": "code",
   "execution_count": null,
   "id": "a9f0b63e-fda0-4251-b7e5-90c2f5285717",
   "metadata": {
    "tags": []
   },
   "outputs": [],
   "source": [
    "# Heating season\n",
    "df = df.loc[(df.index.month >= 10) | (df.index.month <= 4)]"
   ]
  },
  {
   "cell_type": "code",
   "execution_count": null,
   "id": "90e441c5-de03-4687-9e81-12d5854a5781",
   "metadata": {
    "tags": []
   },
   "outputs": [],
   "source": [
    "# # Group the DataFrame by the month and calculate the mean of the 'Außentemperatur' column\n",
    "# monthly_temp = df.groupby(pd.Grouper(freq='M'))['Außentemperatur'].mean()\n",
    "\n",
    "# # Group the DataFrame by the month and calculate the total 'Arbeit' \n",
    "# monthly_energy = df.groupby(pd.Grouper(freq='M'))['Arbeit'].max().diff().fillna(method='bfill')\n",
    "\n",
    "# # Create figure and axes objects\n",
    "# fig, ax1 = plt.subplots()\n",
    "\n",
    "# # Plot the data on the first axis\n",
    "# ax1.plot(monthly_temp, color='blue')\n",
    "# ax1.set_xlabel('Month')\n",
    "# ax1.set_ylabel('Average Temperature (°C)', color='blue')\n",
    "# ax1.tick_params(axis='y', labelcolor='blue')\n",
    "# ax1.set_title('Monthly Average Temperature and Total Energy')\n",
    "\n",
    "# plt.xticks(rotation=90)\n",
    "\n",
    "# # Add a second axis for the energy data\n",
    "# ax2 = ax1.twinx()\n",
    "\n",
    "# # Plot the data on the second axis\n",
    "# ax2.plot(monthly_energy, color='red')\n",
    "# ax2.set_ylabel('Energy (MWh)', color='red')\n",
    "# ax2.tick_params(axis='y', labelcolor='red')\n",
    "\n",
    "# # Add x-axis ticks for all months\n",
    "# ax1.xaxis.set_major_locator(mdates.MonthLocator())\n",
    "# ax1.xaxis.set_major_formatter(mdates.DateFormatter('%b %Y'))\n",
    "# ax1.grid(True)\n",
    "\n",
    "# plt.show()"
   ]
  },
  {
   "cell_type": "code",
   "execution_count": null,
   "id": "7fb65417-3f45-4a86-9d62-e837f308d414",
   "metadata": {
    "tags": []
   },
   "outputs": [],
   "source": [
    "# Group the DataFrame by the month and calculate the mean of the 'Außentemperatur' column\n",
    "monthly_temp = df['Außentemperatur'].groupby(pd.Grouper(freq='M')).mean()\n",
    "monthly_temp.index = monthly_temp.index - pd.offsets.MonthBegin(1)\n",
    "\n",
    "# Group the DataFrame by the month and calculate the total 'Arbeit' \n",
    "monthly_energy = df['Arbeit'].groupby(pd.Grouper(freq='M')).max().diff().fillna(method='bfill', limit=1)\n",
    "monthly_energy.index = monthly_energy.index - pd.offsets.MonthBegin(1)\n",
    "\n",
    "# Create figure with secondary y-axis\n",
    "fig = make_subplots(specs=[[{\"secondary_y\": True}]])\n",
    "\n",
    "# Add traces\n",
    "fig.add_trace(\n",
    "    go.Scatter(x=monthly_temp.index, y=monthly_temp, mode='lines', name='Average Temperature'),\n",
    "    secondary_y=False\n",
    ")\n",
    "\n",
    "fig.add_trace(\n",
    "    go.Scatter(x=monthly_energy.index, y=monthly_energy, mode='lines', name='Energy'),\n",
    "    secondary_y=True\n",
    ")\n",
    "\n",
    "# Add figure title\n",
    "fig.update_layout(\n",
    "    title=dict(text=\"Monthly Average Temperature and Total Energy\", x=0.5)\n",
    ")\n",
    "\n",
    "# Set x-axis title\n",
    "fig.update_xaxes(title_text=\"Month\", tickangle=-90, tickformat='%m.%Y', showticklabels=True, dtick='M1',\n",
    "                 range=[monthly_temp.index.min(), \n",
    "                        monthly_temp.index.max() + pd.offsets.MonthEnd()])\n",
    "\n",
    "# Set y-axes titles\n",
    "fig.update_yaxes(title_text=\"<b>Average Temperature (°C)</b>\", secondary_y=False, showgrid=True, title_font=dict(color='blue'), dtick=2.5)\n",
    "fig.update_yaxes(title_text=\"<b>Energy (MWh)</b>\", secondary_y=True, showgrid=False, title_font=dict(color='red'))\n",
    "                        \n",
    "# Show legend\n",
    "fig.update_layout(showlegend=False, height=600, hovermode=\"x\")\n",
    "\n",
    "hover_template_temp = '%{y:.1f}°C<extra></extra>'\n",
    "hover_template_energy = '%{y:.2f} MWh<extra></extra>'\n",
    "fig.update_traces(hovertemplate=hover_template_temp, selector=dict(name='Average Temperature'))\n",
    "fig.update_traces(hovertemplate=hover_template_energy, selector=dict(name='Energy'))\n",
    "\n",
    "# Remove trace name from hover box\n",
    "fig.update_traces(showlegend=False)\n",
    "\n",
    "fig.show()"
   ]
  },
  {
   "cell_type": "code",
   "execution_count": null,
   "id": "1518f64a-e5c1-4992-96a4-ffe18d841ecb",
   "metadata": {
    "tags": []
   },
   "outputs": [],
   "source": [
    "# # Get data between the first of October and the end of April every year\n",
    "# heating_season_mask = ((hourly_load.index.month >= 10) | (hourly_load.index.month <= 4))\n",
    "# heating_season_load = hourly_load[heating_season_mask]\n",
    "# heating_season_holiday_mask = np.in1d(heating_season_load.index.date, list(bayern_holidays.keys()))"
   ]
  },
  {
   "cell_type": "code",
   "execution_count": null,
   "id": "4e36088d-cd2e-4aec-856f-b2de4c012829",
   "metadata": {
    "tags": []
   },
   "outputs": [],
   "source": [
    "# heating_season_weekday_load = heating_season_load[heating_season_load.index.weekday < 5]\n",
    "# heating_season_mean_weekday_load = heating_season_weekday_load.groupby(heating_season_weekday_load.index.hour).mean()\n",
    "# heating_season_saturday_load = heating_season_load[heating_season_load.index.weekday == 5]\n",
    "# heating_season_mean_saturday_load = heating_season_saturday_load.groupby(heating_season_saturday_load.index.hour).mean()\n",
    "# heating_season_sunday_load = heating_season_load[heating_season_load.index.weekday == 6]\n",
    "# heating_season_mean_sunday_load = heating_season_sunday_load.groupby(heating_season_sunday_load.index.hour).mean()\n",
    "# heating_season_holiday_load = heating_season_load[heating_season_holiday_mask]\n",
    "# heating_season_mean_holiday_load = heating_season_holiday_load.groupby(heating_season_holiday_load.index.hour).mean()"
   ]
  },
  {
   "cell_type": "code",
   "execution_count": null,
   "id": "3bd6de50-a3f9-4fa9-88b8-6fca0e574c32",
   "metadata": {
    "tags": []
   },
   "outputs": [],
   "source": [
    "# # Create the line graph\n",
    "# plt.plot(heating_season_mean_weekday_load, label='Weekday')\n",
    "# plt.plot(heating_season_mean_saturday_load, label='Saturday')\n",
    "# plt.plot(heating_season_mean_sunday_load, label='Sunday')\n",
    "# plt.plot(heating_season_mean_holiday_load, label='Holiday')\n",
    "\n",
    "# # Set the x-axis labels\n",
    "# plt.xticks(range(0, 24))\n",
    "\n",
    "# # Add a title and labels for the x and y axes\n",
    "# plt.title('Hourly Load Profile by Day Type')\n",
    "# plt.xlabel('Time (hours)')\n",
    "# plt.ylabel('Energy Consumption (kW)')\n",
    "\n",
    "# # Add a legend\n",
    "# plt.legend()\n",
    "\n",
    "# plt.grid(True)\n",
    "\n",
    "# # Display the graph\n",
    "# plt.show()"
   ]
  },
  {
   "cell_type": "code",
   "execution_count": null,
   "id": "30b925b1-7af7-4354-baed-87b279822bb0",
   "metadata": {
    "tags": []
   },
   "outputs": [],
   "source": [
    "# # Get data between the first of October and the end of April every year\n",
    "# non_heating_season_mask = ((hourly_load.index.month < 10) & (hourly_load.index.month > 4))\n",
    "# non_heating_season_load = hourly_load[non_heating_season_mask]\n",
    "# non_heating_season_holiday_mask = np.in1d(non_heating_season_load.index.date, list(bayern_holidays.keys()))"
   ]
  },
  {
   "cell_type": "code",
   "execution_count": null,
   "id": "70aaa2cc-7e64-4070-8e8a-bea2293bbb60",
   "metadata": {
    "tags": []
   },
   "outputs": [],
   "source": [
    "# non_heating_season_weekday_load = non_heating_season_load[non_heating_season_load.index.weekday < 5]\n",
    "# non_heating_season_mean_weekday_load = non_heating_season_weekday_load.groupby(non_heating_season_weekday_load.index.hour).mean()\n",
    "# non_heating_season_saturday_load = non_heating_season_load[non_heating_season_load.index.weekday == 5]\n",
    "# non_heating_season_mean_saturday_load = non_heating_season_saturday_load.groupby(non_heating_season_saturday_load.index.hour).mean()\n",
    "# non_heating_season_sunday_load = non_heating_season_load[non_heating_season_load.index.weekday == 6]\n",
    "# non_heating_season_mean_sunday_load = non_heating_season_sunday_load.groupby(non_heating_season_sunday_load.index.hour).mean()\n",
    "# non_heating_season_holiday_load = non_heating_season_load[non_heating_season_holiday_mask]\n",
    "# non_heating_season_mean_holiday_load = non_heating_season_holiday_load.groupby(non_heating_season_holiday_load.index.hour).mean()"
   ]
  },
  {
   "cell_type": "code",
   "execution_count": null,
   "id": "dc8a5d8d-32b9-4301-81f5-813d5257e086",
   "metadata": {
    "tags": []
   },
   "outputs": [],
   "source": [
    "# # Create the line graph\n",
    "# plt.plot(non_heating_season_mean_weekday_load, label='Weekday')\n",
    "# plt.plot(non_heating_season_mean_saturday_load, label='Saturday')\n",
    "# plt.plot(non_heating_season_mean_sunday_load, label='Sunday')\n",
    "# plt.plot(non_heating_season_mean_holiday_load, label='Holiday')\n",
    "\n",
    "# # Set the x-axis labels\n",
    "# plt.xticks(range(0, 24))\n",
    "\n",
    "# # Add a title and labels for the x and y axes\n",
    "# plt.title('Hourly Load Profile by Day Type')\n",
    "# plt.xlabel('Time (hours)')\n",
    "# plt.ylabel('Energy Consumption (kW)')\n",
    "\n",
    "# # Add a legend\n",
    "# plt.legend()\n",
    "\n",
    "# plt.grid(True)\n",
    "\n",
    "# # Display the graph\n",
    "# plt.show()"
   ]
  },
  {
   "cell_type": "code",
   "execution_count": null,
   "id": "42b20250-272a-458d-8fce-d83890b8c15e",
   "metadata": {
    "tags": []
   },
   "outputs": [],
   "source": [
    "fields = [\"Arbeit [MWh]\", \"Leistung [kW]\", \"Außentemperatur [°C]\", \"Zeit\", \"Prim. Vorlauf [°C]\",\n",
    "         \"Prim. Rücklauf [°C]\", \"Rücklauf 1 [°C]\", \"Rücklauf 2 [°C]\", \"Vorlauf 1 [°C]\"]\n",
    "\n",
    "df = pd.read_csv(\"Trend-2021-09-09_08-02_30.csv\", delimiter=\";\", usecols=fields)"
   ]
  },
  {
   "cell_type": "code",
   "execution_count": null,
   "id": "06657958-81ca-47d0-877f-0b96c045d7d4",
   "metadata": {
    "tags": []
   },
   "outputs": [],
   "source": [
    "df.rename(columns={'Leistung [kW]': 'Leistung', 'Außentemperatur [°C]': 'Außentemperatur', \n",
    "                  \"Prim. Vorlauf [°C]\": \"Prim. Vorlauf\", \n",
    "                  \"Prim. Rücklauf [°C]\": \"Prim. Rücklauf\", \n",
    "                  \"Rücklauf 1 [°C]\": \"Rücklauf 1\", \n",
    "                  \"Rücklauf 2 [°C]\": \"Rücklauf 2\", \n",
    "                  \"Vorlauf 1 [°C]\": \"Vorlauf 1\"}, inplace=True)\n",
    "\n",
    "df.rename(columns={ \"Arbeit [MWh]\": \"Arbeit\" }, inplace=True)"
   ]
  },
  {
   "cell_type": "code",
   "execution_count": null,
   "id": "14cb30ac-e824-4f82-ab44-fc0f84d263e8",
   "metadata": {
    "tags": []
   },
   "outputs": [],
   "source": [
    "# Convert the \"Leistung\" column to float\n",
    "df['Arbeit'] = df['Arbeit'].str.replace(',', '.').astype(float)\n",
    "# Filter Arbeit > 0\n",
    "df = df[df['Arbeit'] > 0]"
   ]
  },
  {
   "cell_type": "code",
   "execution_count": null,
   "id": "87211567-e3da-49ad-9596-c314c9f3c133",
   "metadata": {
    "tags": []
   },
   "outputs": [],
   "source": [
    "# Convert the \"Leistung\", \"Außentemperatur\" column to float\n",
    "df['Leistung'] = df['Leistung'].str.replace(',', '.').astype(float)\n",
    "df['Außentemperatur'] = df['Außentemperatur'].str.replace(',', '.').astype(float)\n",
    "df['Rücklauf 1'] = df['Rücklauf 1'].str.replace(',', '.').astype(float)\n",
    "df['Rücklauf 2'] = df['Rücklauf 2'].str.replace(',', '.').astype(float)\n",
    "df['Vorlauf 1'] = df['Vorlauf 1'].str.replace(',', '.').astype(float)\n",
    "\n",
    "# Convert the \"Zeit\" column to datetime\n",
    "df['Zeit'] = pd.to_datetime(df['Zeit'], format='%d.%m.%Y %H:%M:%S')\n",
    "df.set_index('Zeit', inplace=True)"
   ]
  },
  {
   "cell_type": "code",
   "execution_count": null,
   "id": "44f96f34-667a-4536-b362-71900d44b9e3",
   "metadata": {
    "tags": []
   },
   "outputs": [],
   "source": [
    "vorlauf_temp = df['Prim. Vorlauf'].groupby(df.index.hour).mean()\n",
    "rucklauf_temp = df['Prim. Rücklauf'].groupby(df.index.hour).mean()\n",
    "outside_temp = df['Außentemperatur'].groupby(df.index.hour).mean()\n",
    "rucklauf_1_temp = df['Rücklauf 1'].groupby(df.index.hour).mean()\n",
    "rucklauf_2_temp = df['Rücklauf 2'].groupby(df.index.hour).mean()\n",
    "vorlauf_1_temp = df['Vorlauf 1'].groupby(df.index.hour).mean()"
   ]
  },
  {
   "cell_type": "code",
   "execution_count": null,
   "id": "6391d6de-3740-4fef-9d81-7252233bc56d",
   "metadata": {
    "tags": []
   },
   "outputs": [],
   "source": [
    "# # Create the line graph\n",
    "# plt.plot(mean_vorlauf_temp, label='Vorlauf Temp')\n",
    "# plt.plot(mean_vorlauf_1_temp, label='Vorlauf 1 Temp')\n",
    "# plt.plot(mean_rucklauf_temp, label='Rucklauf Temp')\n",
    "# plt.plot(mean_rucklauf_1_temp, label='Rucklauf 1 Temp')\n",
    "# plt.plot(mean_rucklauf_2_temp, label='Rucklauf 2 Temp')\n",
    "# plt.plot(mean_outside_temp, label='Outside Temp')\n",
    "\n",
    "# # Set the x-axis labels\n",
    "# plt.xticks(range(0, 24))\n",
    "\n",
    "# # Add a title and labels for the x and y axes\n",
    "# plt.title('Hourly Temperature')\n",
    "# plt.xlabel('Time (Hour)')\n",
    "# plt.ylabel('Temperature (°C)')\n",
    "\n",
    "# # Add a legend\n",
    "# plt.legend()\n",
    "\n",
    "# plt.grid(True)\n",
    "\n",
    "# # Display the graph\n",
    "# plt.show()"
   ]
  },
  {
   "cell_type": "code",
   "execution_count": null,
   "id": "7e5b65d8-0b62-47b0-b655-0db7a5a33fa7",
   "metadata": {},
   "outputs": [],
   "source": [
    "# Define the traces for each line\n",
    "trace_vorlauf = go.Scatter(x=list(range(0, 24)), y=vorlauf_temp, mode='lines', name='Vorlauf Temp')\n",
    "trace_vorlauf_1 = go.Scatter(x=list(range(0, 24)), y=vorlauf_1_temp, mode='lines', name='Vorlauf 1 Temp')\n",
    "trace_rucklauf = go.Scatter(x=list(range(0, 24)), y=rucklauf_temp, mode='lines', name='Rucklauf Temp')\n",
    "trace_rucklauf_1 = go.Scatter(x=list(range(0, 24)), y=rucklauf_1_temp, mode='lines', name='Rucklauf 1 Temp')\n",
    "trace_rucklauf_2 = go.Scatter(x=list(range(0, 24)), y=rucklauf_2_temp, mode='lines', name='Rucklauf 2 Temp')\n",
    "trace_outside = go.Scatter(x=list(range(0, 24)), y=outside_temp, mode='lines', name='Outside Temp')\n",
    "\n",
    "# Define the data and layout\n",
    "data = [trace_vorlauf, trace_vorlauf_1, trace_rucklauf, trace_rucklauf_1, trace_rucklauf_2, trace_outside]\n",
    "layout = go.Layout(title=dict(text='Hourly Temperature', x=0.5), \n",
    "                   xaxis=dict(title='Time (Hour)', dtick=1),\n",
    "                   yaxis=dict(title='Temperature (°C)'))\n",
    "\n",
    "# Set hovertemplate for each trace with float values rounded to 2 decimal places\n",
    "hovertemplate = '%{y:.1f}°C'\n",
    "trace_vorlauf.update(hovertemplate=hovertemplate)\n",
    "trace_vorlauf_1.update(hovertemplate=hovertemplate)\n",
    "trace_rucklauf.update(hovertemplate=hovertemplate)\n",
    "trace_rucklauf_1.update(hovertemplate=hovertemplate)\n",
    "trace_rucklauf_2.update(hovertemplate=hovertemplate)\n",
    "trace_outside.update(hovertemplate=hovertemplate)\n",
    "\n",
    "# Create the figure and plot it\n",
    "fig = go.Figure(data=data, layout=layout)\n",
    "fig.update_layout(showlegend=True, height=600, hovermode='x')\n",
    "fig.show()"
   ]
  },
  {
   "cell_type": "code",
   "execution_count": null,
   "id": "c26e3a83-0ce0-4884-a762-e307e0b8cbf3",
   "metadata": {},
   "outputs": [],
   "source": []
  }
 ],
 "metadata": {
  "kernelspec": {
   "display_name": "Python 3 (ipykernel)",
   "language": "python",
   "name": "python3"
  },
  "language_info": {
   "codemirror_mode": {
    "name": "ipython",
    "version": 3
   },
   "file_extension": ".py",
   "mimetype": "text/x-python",
   "name": "python",
   "nbconvert_exporter": "python",
   "pygments_lexer": "ipython3",
   "version": "3.11.2"
  }
 },
 "nbformat": 4,
 "nbformat_minor": 5
}
